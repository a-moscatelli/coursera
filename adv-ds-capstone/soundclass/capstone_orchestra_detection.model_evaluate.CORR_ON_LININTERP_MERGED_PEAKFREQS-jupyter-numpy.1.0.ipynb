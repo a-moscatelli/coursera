{
 "cells": [
  {
   "cell_type": "markdown",
   "id": "b445e705",
   "metadata": {},
   "source": [
    "# https://www.coursera.org/learn/advanced-data-science-capstone/\n",
    "# \"capstone_orchestra_detection\" notebook set\n",
    "# for project: sound classification for the instruments of the orchestra"
   ]
  },
  {
   "cell_type": "markdown",
   "id": "d07f3232",
   "metadata": {},
   "source": [
    "# model_evaluate"
   ]
  },
  {
   "cell_type": "code",
   "execution_count": 1,
   "id": "45c8a5f3",
   "metadata": {},
   "outputs": [],
   "source": [
    "\n",
    "import matplotlib.pyplot as plt \n",
    "import numpy as np\n",
    "from scipy.io import wavfile\n",
    "from numpy.fft import fft, ifft\n",
    "import scipy.signal as sig\n"
   ]
  },
  {
   "cell_type": "markdown",
   "id": "4948b7de",
   "metadata": {},
   "source": [
    "external dependencies:\n",
    "* ./footprints.json\n",
    "* ./modelprediction*.csv\n",
    "* ./predictionclasses.csv\n"
   ]
  },
  {
   "cell_type": "code",
   "execution_count": 2,
   "id": "79daa2bc",
   "metadata": {},
   "outputs": [],
   "source": [
    "import pandas as pd\n",
    "import json"
   ]
  },
  {
   "cell_type": "markdown",
   "id": "6c232b88",
   "metadata": {},
   "source": [
    "## load supervised / expected / actual data (A)"
   ]
  },
  {
   "cell_type": "code",
   "execution_count": 3,
   "id": "aa0287ac",
   "metadata": {},
   "outputs": [],
   "source": [
    "def get_footprints_data():\n",
    "    with open('footprints.json') as footprints_file:\n",
    "        footprints = json.load(footprints_file)\n",
    "    \n",
    "    print('footprints loaded with',len(footprints),'items')\n",
    "    return footprints"
   ]
  },
  {
   "cell_type": "code",
   "execution_count": 4,
   "id": "d7366c5d",
   "metadata": {},
   "outputs": [
    {
     "name": "stdout",
     "output_type": "stream",
     "text": [
      "footprints loaded with 18 items\n"
     ]
    }
   ],
   "source": [
    "footprints = get_footprints_data()"
   ]
  },
  {
   "cell_type": "code",
   "execution_count": 5,
   "id": "35f4d00b",
   "metadata": {},
   "outputs": [],
   "source": [
    "def get_footprints_data_df(footprints):\n",
    "    dfu = None\n",
    "    for fp in footprints:\n",
    "        df = pd.DataFrame({\n",
    "            'label':[fp['label']],\n",
    "            'train':[fp['train']],\n",
    "            'istm':[fp['istm']],\n",
    "            'note':[fp['note']]\n",
    "        })\n",
    "        if dfu is None:\n",
    "            dfu = df\n",
    "        else:\n",
    "            dfu = pd.concat([dfu,df],ignore_index=True)\n",
    "        \n",
    "    return dfu"
   ]
  },
  {
   "cell_type": "code",
   "execution_count": 6,
   "id": "9f5d6d13",
   "metadata": {},
   "outputs": [
    {
     "data": {
      "text/html": [
       "<div>\n",
       "<style scoped>\n",
       "    .dataframe tbody tr th:only-of-type {\n",
       "        vertical-align: middle;\n",
       "    }\n",
       "\n",
       "    .dataframe tbody tr th {\n",
       "        vertical-align: top;\n",
       "    }\n",
       "\n",
       "    .dataframe thead th {\n",
       "        text-align: right;\n",
       "    }\n",
       "</style>\n",
       "<table border=\"1\" class=\"dataframe\">\n",
       "  <thead>\n",
       "    <tr style=\"text-align: right;\">\n",
       "      <th></th>\n",
       "      <th>label</th>\n",
       "      <th>train</th>\n",
       "      <th>istm</th>\n",
       "      <th>note</th>\n",
       "    </tr>\n",
       "  </thead>\n",
       "  <tbody>\n",
       "    <tr>\n",
       "      <th>2</th>\n",
       "      <td>Bassoon3a_x</td>\n",
       "      <td>0</td>\n",
       "      <td>Bassoon</td>\n",
       "      <td>G3</td>\n",
       "    </tr>\n",
       "    <tr>\n",
       "      <th>5</th>\n",
       "      <td>Viola3a_x</td>\n",
       "      <td>0</td>\n",
       "      <td>Viola</td>\n",
       "      <td>G4</td>\n",
       "    </tr>\n",
       "    <tr>\n",
       "      <th>8</th>\n",
       "      <td>Cello3a_x</td>\n",
       "      <td>0</td>\n",
       "      <td>Cello</td>\n",
       "      <td>D3</td>\n",
       "    </tr>\n",
       "    <tr>\n",
       "      <th>11</th>\n",
       "      <td>FrHorn3a_x</td>\n",
       "      <td>0</td>\n",
       "      <td>FrHorn</td>\n",
       "      <td>C4</td>\n",
       "    </tr>\n",
       "    <tr>\n",
       "      <th>14</th>\n",
       "      <td>Flute3a_x</td>\n",
       "      <td>0</td>\n",
       "      <td>Flute</td>\n",
       "      <td>E4</td>\n",
       "    </tr>\n",
       "    <tr>\n",
       "      <th>17</th>\n",
       "      <td>Clarinet3a_x</td>\n",
       "      <td>0</td>\n",
       "      <td>Clarinet</td>\n",
       "      <td>F#3</td>\n",
       "    </tr>\n",
       "  </tbody>\n",
       "</table>\n",
       "</div>"
      ],
      "text/plain": [
       "           label  train      istm note\n",
       "2    Bassoon3a_x      0   Bassoon   G3\n",
       "5      Viola3a_x      0     Viola   G4\n",
       "8      Cello3a_x      0     Cello   D3\n",
       "11    FrHorn3a_x      0    FrHorn   C4\n",
       "14     Flute3a_x      0     Flute   E4\n",
       "17  Clarinet3a_x      0  Clarinet  F#3"
      ]
     },
     "execution_count": 6,
     "metadata": {},
     "output_type": "execute_result"
    }
   ],
   "source": [
    "dffp=get_footprints_data_df(footprints)\n",
    "dfa = dffp.query('train==0')\n",
    "dfa"
   ]
  },
  {
   "cell_type": "markdown",
   "id": "6b0b4437",
   "metadata": {},
   "source": [
    "## load istm-dummy mapping for prediction models (M)"
   ]
  },
  {
   "cell_type": "code",
   "execution_count": 7,
   "id": "faf9893e",
   "metadata": {
    "scrolled": true
   },
   "outputs": [
    {
     "data": {
      "text/html": [
       "<div>\n",
       "<style scoped>\n",
       "    .dataframe tbody tr th:only-of-type {\n",
       "        vertical-align: middle;\n",
       "    }\n",
       "\n",
       "    .dataframe tbody tr th {\n",
       "        vertical-align: top;\n",
       "    }\n",
       "\n",
       "    .dataframe thead th {\n",
       "        text-align: right;\n",
       "    }\n",
       "</style>\n",
       "<table border=\"1\" class=\"dataframe\">\n",
       "  <thead>\n",
       "    <tr style=\"text-align: right;\">\n",
       "      <th></th>\n",
       "      <th>istm</th>\n",
       "      <th>class</th>\n",
       "      <th>classn</th>\n",
       "    </tr>\n",
       "  </thead>\n",
       "  <tbody>\n",
       "    <tr>\n",
       "      <th>0</th>\n",
       "      <td>Bassoon</td>\n",
       "      <td>0</td>\n",
       "      <td>0.0</td>\n",
       "    </tr>\n",
       "    <tr>\n",
       "      <th>1</th>\n",
       "      <td>Viola</td>\n",
       "      <td>1</td>\n",
       "      <td>1.0</td>\n",
       "    </tr>\n",
       "    <tr>\n",
       "      <th>2</th>\n",
       "      <td>Cello</td>\n",
       "      <td>2</td>\n",
       "      <td>2.0</td>\n",
       "    </tr>\n",
       "    <tr>\n",
       "      <th>3</th>\n",
       "      <td>FrHorn</td>\n",
       "      <td>3</td>\n",
       "      <td>3.0</td>\n",
       "    </tr>\n",
       "    <tr>\n",
       "      <th>4</th>\n",
       "      <td>Flute</td>\n",
       "      <td>4</td>\n",
       "      <td>4.0</td>\n",
       "    </tr>\n",
       "    <tr>\n",
       "      <th>5</th>\n",
       "      <td>Clarinet</td>\n",
       "      <td>5</td>\n",
       "      <td>5.0</td>\n",
       "    </tr>\n",
       "  </tbody>\n",
       "</table>\n",
       "</div>"
      ],
      "text/plain": [
       "       istm  class  classn\n",
       "0   Bassoon      0     0.0\n",
       "1     Viola      1     1.0\n",
       "2     Cello      2     2.0\n",
       "3    FrHorn      3     3.0\n",
       "4     Flute      4     4.0\n",
       "5  Clarinet      5     5.0"
      ]
     },
     "execution_count": 7,
     "metadata": {},
     "output_type": "execute_result"
    }
   ],
   "source": [
    "dfm= pd.read_csv('predictionclasses.csv') # ,index_col='class')\n",
    "assert dfm.columns.tolist() == 'istm,class,classn'.split(',')\n",
    "dfm"
   ]
  },
  {
   "cell_type": "code",
   "execution_count": 8,
   "id": "170aeab7",
   "metadata": {
    "scrolled": true
   },
   "outputs": [
    {
     "data": {
      "text/html": [
       "<div>\n",
       "<style scoped>\n",
       "    .dataframe tbody tr th:only-of-type {\n",
       "        vertical-align: middle;\n",
       "    }\n",
       "\n",
       "    .dataframe tbody tr th {\n",
       "        vertical-align: top;\n",
       "    }\n",
       "\n",
       "    .dataframe thead th {\n",
       "        text-align: right;\n",
       "    }\n",
       "</style>\n",
       "<table border=\"1\" class=\"dataframe\">\n",
       "  <thead>\n",
       "    <tr style=\"text-align: right;\">\n",
       "      <th></th>\n",
       "      <th>istm</th>\n",
       "      <th>class</th>\n",
       "      <th>classn</th>\n",
       "      <th>predicted_class</th>\n",
       "    </tr>\n",
       "  </thead>\n",
       "  <tbody>\n",
       "    <tr>\n",
       "      <th>0</th>\n",
       "      <td>Bassoon</td>\n",
       "      <td>0</td>\n",
       "      <td>0.0</td>\n",
       "      <td>0</td>\n",
       "    </tr>\n",
       "    <tr>\n",
       "      <th>1</th>\n",
       "      <td>Viola</td>\n",
       "      <td>1</td>\n",
       "      <td>1.0</td>\n",
       "      <td>1</td>\n",
       "    </tr>\n",
       "    <tr>\n",
       "      <th>2</th>\n",
       "      <td>Cello</td>\n",
       "      <td>2</td>\n",
       "      <td>2.0</td>\n",
       "      <td>2</td>\n",
       "    </tr>\n",
       "    <tr>\n",
       "      <th>3</th>\n",
       "      <td>FrHorn</td>\n",
       "      <td>3</td>\n",
       "      <td>3.0</td>\n",
       "      <td>3</td>\n",
       "    </tr>\n",
       "    <tr>\n",
       "      <th>4</th>\n",
       "      <td>Flute</td>\n",
       "      <td>4</td>\n",
       "      <td>4.0</td>\n",
       "      <td>4</td>\n",
       "    </tr>\n",
       "    <tr>\n",
       "      <th>5</th>\n",
       "      <td>Clarinet</td>\n",
       "      <td>5</td>\n",
       "      <td>5.0</td>\n",
       "      <td>5</td>\n",
       "    </tr>\n",
       "  </tbody>\n",
       "</table>\n",
       "</div>"
      ],
      "text/plain": [
       "       istm  class  classn  predicted_class\n",
       "0   Bassoon      0     0.0                0\n",
       "1     Viola      1     1.0                1\n",
       "2     Cello      2     2.0                2\n",
       "3    FrHorn      3     3.0                3\n",
       "4     Flute      4     4.0                4\n",
       "5  Clarinet      5     5.0                5"
      ]
     },
     "execution_count": 8,
     "metadata": {},
     "output_type": "execute_result"
    }
   ],
   "source": [
    "dfm['predicted_class'] = dfm['class']\n",
    "dfm"
   ]
  },
  {
   "cell_type": "markdown",
   "id": "2f7a6ff9",
   "metadata": {},
   "source": [
    "## load model predictions (P)"
   ]
  },
  {
   "cell_type": "code",
   "execution_count": 9,
   "id": "8a11bf4f",
   "metadata": {},
   "outputs": [
    {
     "name": "stdout",
     "output_type": "stream",
     "text": [
      "modelprediction.CORR_ON_LININTERP_MERGED_PEAKFREQS.1.csv\n",
      "modelprediction.MAE_ON_MEAN_ROUNDED_PEAKFREQS.1.csv\n",
      "modelprediction.MLP.1.csv\n",
      "modelprediction.SVC.1.csv\n"
     ]
    }
   ],
   "source": [
    "!dir /b modelprediction*.csv"
   ]
  },
  {
   "cell_type": "code",
   "execution_count": 10,
   "id": "ce59356d",
   "metadata": {},
   "outputs": [],
   "source": [
    "evaluate = 'modelprediction.CORR_ON_LININTERP_MERGED_PEAKFREQS.1.csv'"
   ]
  },
  {
   "cell_type": "code",
   "execution_count": 11,
   "id": "f6569e84",
   "metadata": {},
   "outputs": [
    {
     "data": {
      "text/html": [
       "<div>\n",
       "<style scoped>\n",
       "    .dataframe tbody tr th:only-of-type {\n",
       "        vertical-align: middle;\n",
       "    }\n",
       "\n",
       "    .dataframe tbody tr th {\n",
       "        vertical-align: top;\n",
       "    }\n",
       "\n",
       "    .dataframe thead th {\n",
       "        text-align: right;\n",
       "    }\n",
       "</style>\n",
       "<table border=\"1\" class=\"dataframe\">\n",
       "  <thead>\n",
       "    <tr style=\"text-align: right;\">\n",
       "      <th></th>\n",
       "      <th>test_sample</th>\n",
       "      <th>predicted_class</th>\n",
       "    </tr>\n",
       "  </thead>\n",
       "  <tbody>\n",
       "    <tr>\n",
       "      <th>0</th>\n",
       "      <td>Bassoon3a_x</td>\n",
       "      <td>4</td>\n",
       "    </tr>\n",
       "    <tr>\n",
       "      <th>1</th>\n",
       "      <td>Viola3a_x</td>\n",
       "      <td>2</td>\n",
       "    </tr>\n",
       "    <tr>\n",
       "      <th>2</th>\n",
       "      <td>Cello3a_x</td>\n",
       "      <td>1</td>\n",
       "    </tr>\n",
       "    <tr>\n",
       "      <th>3</th>\n",
       "      <td>FrHorn3a_x</td>\n",
       "      <td>4</td>\n",
       "    </tr>\n",
       "    <tr>\n",
       "      <th>4</th>\n",
       "      <td>Flute3a_x</td>\n",
       "      <td>4</td>\n",
       "    </tr>\n",
       "    <tr>\n",
       "      <th>5</th>\n",
       "      <td>Clarinet3a_x</td>\n",
       "      <td>5</td>\n",
       "    </tr>\n",
       "  </tbody>\n",
       "</table>\n",
       "</div>"
      ],
      "text/plain": [
       "    test_sample  predicted_class\n",
       "0   Bassoon3a_x                4\n",
       "1     Viola3a_x                2\n",
       "2     Cello3a_x                1\n",
       "3    FrHorn3a_x                4\n",
       "4     Flute3a_x                4\n",
       "5  Clarinet3a_x                5"
      ]
     },
     "execution_count": 11,
     "metadata": {},
     "output_type": "execute_result"
    }
   ],
   "source": [
    "dfp = pd.read_csv(evaluate)[['test_sample','predicted_class']]\n",
    "dfp"
   ]
  },
  {
   "cell_type": "markdown",
   "id": "8317a66a",
   "metadata": {},
   "source": [
    "## combining the three datasets P,M,A"
   ]
  },
  {
   "cell_type": "code",
   "execution_count": 12,
   "id": "2aa42140",
   "metadata": {},
   "outputs": [],
   "source": [
    "def joindata4eval(dfp,dfm,dfa,ret):\n",
    "\n",
    "    dfpm = dfp.join(dfm,on=['predicted_class'],rsuffix='_map')[['test_sample','predicted_class','istm']]\n",
    "    dfpm = dfpm.rename(columns={'istm':'predicted_istm'}).set_index('test_sample')\n",
    "    \n",
    "    dfa2 = dfa.rename(columns={'label':'test_sample','istm':'actual_istm'}).set_index('test_sample')\n",
    "\n",
    "    dfpma = dfpm.join(dfa2,rsuffix='_act')\n",
    "    dfpma['match'] = dfpma['predicted_istm'] == dfpma['actual_istm']\n",
    "    \n",
    "    TP = len(dfpma[dfpma.match])\n",
    "    FP = len(dfpma) - TP\n",
    "    TN = 0\n",
    "    FN = 0\n",
    "    accuracy = (TP + TN) / (TP + FP + TN + FN)\n",
    "\n",
    "    if ret=='df': return dfpma    \n",
    "    if ret=='accuracy': return round(accuracy,2)\n"
   ]
  },
  {
   "cell_type": "code",
   "execution_count": 13,
   "id": "8a3cb3f7",
   "metadata": {},
   "outputs": [
    {
     "data": {
      "text/html": [
       "<div>\n",
       "<style scoped>\n",
       "    .dataframe tbody tr th:only-of-type {\n",
       "        vertical-align: middle;\n",
       "    }\n",
       "\n",
       "    .dataframe tbody tr th {\n",
       "        vertical-align: top;\n",
       "    }\n",
       "\n",
       "    .dataframe thead th {\n",
       "        text-align: right;\n",
       "    }\n",
       "</style>\n",
       "<table border=\"1\" class=\"dataframe\">\n",
       "  <thead>\n",
       "    <tr style=\"text-align: right;\">\n",
       "      <th></th>\n",
       "      <th>predicted_class</th>\n",
       "      <th>predicted_istm</th>\n",
       "      <th>train</th>\n",
       "      <th>actual_istm</th>\n",
       "      <th>note</th>\n",
       "      <th>match</th>\n",
       "    </tr>\n",
       "    <tr>\n",
       "      <th>test_sample</th>\n",
       "      <th></th>\n",
       "      <th></th>\n",
       "      <th></th>\n",
       "      <th></th>\n",
       "      <th></th>\n",
       "      <th></th>\n",
       "    </tr>\n",
       "  </thead>\n",
       "  <tbody>\n",
       "    <tr>\n",
       "      <th>Bassoon3a_x</th>\n",
       "      <td>4</td>\n",
       "      <td>Flute</td>\n",
       "      <td>0</td>\n",
       "      <td>Bassoon</td>\n",
       "      <td>G3</td>\n",
       "      <td>False</td>\n",
       "    </tr>\n",
       "    <tr>\n",
       "      <th>Viola3a_x</th>\n",
       "      <td>2</td>\n",
       "      <td>Cello</td>\n",
       "      <td>0</td>\n",
       "      <td>Viola</td>\n",
       "      <td>G4</td>\n",
       "      <td>False</td>\n",
       "    </tr>\n",
       "    <tr>\n",
       "      <th>Cello3a_x</th>\n",
       "      <td>1</td>\n",
       "      <td>Viola</td>\n",
       "      <td>0</td>\n",
       "      <td>Cello</td>\n",
       "      <td>D3</td>\n",
       "      <td>False</td>\n",
       "    </tr>\n",
       "    <tr>\n",
       "      <th>FrHorn3a_x</th>\n",
       "      <td>4</td>\n",
       "      <td>Flute</td>\n",
       "      <td>0</td>\n",
       "      <td>FrHorn</td>\n",
       "      <td>C4</td>\n",
       "      <td>False</td>\n",
       "    </tr>\n",
       "    <tr>\n",
       "      <th>Flute3a_x</th>\n",
       "      <td>4</td>\n",
       "      <td>Flute</td>\n",
       "      <td>0</td>\n",
       "      <td>Flute</td>\n",
       "      <td>E4</td>\n",
       "      <td>True</td>\n",
       "    </tr>\n",
       "    <tr>\n",
       "      <th>Clarinet3a_x</th>\n",
       "      <td>5</td>\n",
       "      <td>Clarinet</td>\n",
       "      <td>0</td>\n",
       "      <td>Clarinet</td>\n",
       "      <td>F#3</td>\n",
       "      <td>True</td>\n",
       "    </tr>\n",
       "  </tbody>\n",
       "</table>\n",
       "</div>"
      ],
      "text/plain": [
       "              predicted_class predicted_istm  train actual_istm note  match\n",
       "test_sample                                                                \n",
       "Bassoon3a_x                 4          Flute      0     Bassoon   G3  False\n",
       "Viola3a_x                   2          Cello      0       Viola   G4  False\n",
       "Cello3a_x                   1          Viola      0       Cello   D3  False\n",
       "FrHorn3a_x                  4          Flute      0      FrHorn   C4  False\n",
       "Flute3a_x                   4          Flute      0       Flute   E4   True\n",
       "Clarinet3a_x                5       Clarinet      0    Clarinet  F#3   True"
      ]
     },
     "execution_count": 13,
     "metadata": {},
     "output_type": "execute_result"
    }
   ],
   "source": [
    "dfpma = joindata4eval(dfp,dfm,dfa,'df')\n",
    "dfpma"
   ]
  },
  {
   "cell_type": "code",
   "execution_count": 14,
   "id": "e08193ec",
   "metadata": {},
   "outputs": [
    {
     "name": "stdout",
     "output_type": "stream",
     "text": [
      "accuracy of modelprediction.CORR_ON_LININTERP_MERGED_PEAKFREQS.1.csv is 0.33\n"
     ]
    }
   ],
   "source": [
    "print('accuracy','of',evaluate,'is',joindata4eval(dfp,dfm,dfa,'accuracy'))"
   ]
  },
  {
   "cell_type": "markdown",
   "id": "fe6bc445",
   "metadata": {},
   "source": [
    "* accuracy of modelprediction.SVC.1.csv is 0.17\n",
    "* accuracy of modelprediction.CORR_ON_LININTERP_MERGED_PEAKFREQS.1.csv is 0.33\n",
    "* accuracy of modelprediction.MAE_ON_MEAN_ROUNDED_PEAKFREQS.1.csv is 0.0\n",
    "* accuracy of modelprediction.MLP.1.csv is 0.33"
   ]
  },
  {
   "cell_type": "markdown",
   "id": "a255ba2c",
   "metadata": {},
   "source": [
    "# comment\n",
    "* by computing the distance between the data points of the footprints, the best accuracy occurred in our tests is 40%"
   ]
  },
  {
   "cell_type": "code",
   "execution_count": 15,
   "id": "55cb059c",
   "metadata": {},
   "outputs": [
    {
     "name": "stdout",
     "output_type": "stream",
     "text": [
      "thank you.\n"
     ]
    }
   ],
   "source": [
    "print('thank you.')"
   ]
  },
  {
   "cell_type": "markdown",
   "id": "28212298",
   "metadata": {},
   "source": [
    "# END OF model_evaluate document"
   ]
  },
  {
   "cell_type": "code",
   "execution_count": null,
   "id": "4b48ac37",
   "metadata": {},
   "outputs": [],
   "source": []
  }
 ],
 "metadata": {
  "kernelspec": {
   "display_name": "Python 3 (ipykernel)",
   "language": "python",
   "name": "python3"
  },
  "language_info": {
   "codemirror_mode": {
    "name": "ipython",
    "version": 3
   },
   "file_extension": ".py",
   "mimetype": "text/x-python",
   "name": "python",
   "nbconvert_exporter": "python",
   "pygments_lexer": "ipython3",
   "version": "3.8.10"
  }
 },
 "nbformat": 4,
 "nbformat_minor": 5
}
