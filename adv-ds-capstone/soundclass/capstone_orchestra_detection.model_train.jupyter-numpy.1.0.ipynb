{
 "cells": [
  {
   "cell_type": "code",
   "execution_count": null,
   "id": "45c8a5f3",
   "metadata": {},
   "outputs": [],
   "source": [
    "\n",
    "import matplotlib.pyplot as plt \n",
    "import numpy as np\n",
    "from scipy.io import wavfile\n",
    "from numpy.fft import fft, ifft\n",
    "import scipy.signal as sig\n"
   ]
  },
  {
   "cell_type": "markdown",
   "id": "53a80919",
   "metadata": {},
   "source": [
    "# model_train"
   ]
  },
  {
   "cell_type": "markdown",
   "id": "e79bb2d9",
   "metadata": {},
   "source": [
    "see model_deployment notebook"
   ]
  },
  {
   "cell_type": "code",
   "execution_count": null,
   "id": "55cb059c",
   "metadata": {},
   "outputs": [],
   "source": [
    "print('thank you.')"
   ]
  },
  {
   "cell_type": "markdown",
   "id": "28212298",
   "metadata": {},
   "source": [
    "# END OF model_train document"
   ]
  },
  {
   "cell_type": "code",
   "execution_count": null,
   "id": "4b48ac37",
   "metadata": {},
   "outputs": [],
   "source": []
  }
 ],
 "metadata": {
  "kernelspec": {
   "display_name": "Python 3 (ipykernel)",
   "language": "python",
   "name": "python3"
  },
  "language_info": {
   "codemirror_mode": {
    "name": "ipython",
    "version": 3
   },
   "file_extension": ".py",
   "mimetype": "text/x-python",
   "name": "python",
   "nbconvert_exporter": "python",
   "pygments_lexer": "ipython3",
   "version": "3.8.10"
  }
 },
 "nbformat": 4,
 "nbformat_minor": 5
}
